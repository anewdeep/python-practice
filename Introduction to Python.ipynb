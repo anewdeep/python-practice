{
 "cells": [
  {
   "cell_type": "markdown",
   "id": "0835a3d6-b774-43b3-999a-5c5037cd9e4f",
   "metadata": {},
   "source": [
    "# Getting started with Python"
   ]
  },
  {
   "cell_type": "markdown",
   "id": "ff61ab2a-f704-4063-b31e-456c116ca672",
   "metadata": {},
   "source": [
    "## Writing Code"
   ]
  },
  {
   "cell_type": "markdown",
   "id": "6315edab-7f15-497a-8a01-94be49abbf06",
   "metadata": {},
   "source": [
    "Python is one of the most popular and useful languages used to give instructions to computers."
   ]
  },
  {
   "cell_type": "code",
   "execution_count": 1,
   "id": "10711ebe-c900-456f-841d-d71ce48d2df6",
   "metadata": {},
   "outputs": [
    {
     "name": "stdout",
     "output_type": "stream",
     "text": [
      "Welcome\n"
     ]
    }
   ],
   "source": [
    "print(\"Welcome\")"
   ]
  },
  {
   "cell_type": "markdown",
   "id": "f5e70243-10bd-4cb8-8b04-b5d6a5f0de11",
   "metadata": {},
   "source": [
    "`print()` instructions is used to send a message to the screen or other display device.\n",
    "requires the use of parantheses around the message."
   ]
  },
  {
   "cell_type": "markdown",
   "id": "0dc1d39d-cbc5-4b14-8c1a-a243947a04ce",
   "metadata": {},
   "source": [
    "## Memory & Variables"
   ]
  },
  {
   "cell_type": "markdown",
   "id": "1a8898d5-726c-4339-87fe-e27f44bcd313",
   "metadata": {},
   "source": [
    "Programs use variables to remember important information like items in a shopping cart, prices and discounts.\n",
    "The line of code below tells the computer to store information in a variable called item."
   ]
  },
  {
   "cell_type": "code",
   "execution_count": 2,
   "id": "fea8d535-de4a-4d38-85d9-5e3ec7b67482",
   "metadata": {},
   "outputs": [],
   "source": [
    "item = \"bike\""
   ]
  },
  {
   "cell_type": "markdown",
   "id": "a7190337-1e50-4080-88a8-32ed22cf18cb",
   "metadata": {},
   "source": [
    "variables have a name and a value. They are connected with the equal sign `=`."
   ]
  },
  {
   "attachments": {
    "30311591-02af-48e9-aa67-7b24ebb42679.webp": {
     "image/webp": "[encoded data removed]"
    }
   },
   "cell_type": "markdown",
   "id": "fed56faa-47c3-4875-a32b-2d1f333468dd",
   "metadata": {},
   "source": [
    "![0996ccf2857b4864a0ea7fb1999f35b3-london.webp](attachment:30311591-02af-48e9-aa67-7b24ebb42679.webp)\n",
    "\n",
    "variable name: city\n",
    "\n",
    "variable value: london"
   ]
  },
  {
   "cell_type": "markdown",
   "id": "54422a77-ce2e-4ad2-80c9-707383ec15ac",
   "metadata": {},
   "source": [
    "### Takeaways\n",
    "\n",
    "- Computer programs use variables to remember important information.\n",
    "- A variable has a name and a value.\n",
    "- Create a variable by connecting the name and the value with an equal sign `=`"
   ]
  },
  {
   "cell_type": "markdown",
   "id": "4514a807-79a9-4f9d-a5d6-14b5662d28b2",
   "metadata": {},
   "source": [
    "## Text data"
   ]
  },
  {
   "cell_type": "markdown",
   "id": "195489a2-bbdb-4420-ad9f-0489ceff6c8f",
   "metadata": {},
   "source": [
    "A piece of text data is called a string.\n",
    "\n",
    "Strings need to be surrounded by quotation marks.\n",
    "\n",
    "They can be stored in variables."
   ]
  },
  {
   "cell_type": "code",
   "execution_count": 3,
   "id": "761f1939-b46f-491e-87ab-038ac269f084",
   "metadata": {},
   "outputs": [],
   "source": [
    "company = \"Apple\""
   ]
  },
  {
   "cell_type": "markdown",
   "id": "c47111c1-cdd0-454e-8c01-7c0e813d2c08",
   "metadata": {},
   "source": [
    "Both single `'` and double `\"` quotes can be used to define strings. The quotation marks need to match.\n",
    "\n",
    "The `print()` statement is used to send a value to the screen."
   ]
  },
  {
   "cell_type": "markdown",
   "id": "c0a5184e-2068-4fe6-bea4-a959cd9a8dfd",
   "metadata": {},
   "source": [
    "## Numerical data"
   ]
  },
  {
   "cell_type": "markdown",
   "id": "bffd00ba-97d8-4cf2-b58c-1ba6fc922c1c",
   "metadata": {},
   "source": [
    "Numerical values can be directly stored in variables.\n",
    "\n",
    "Value stored in a variable, can be accessed by calling its name."
   ]
  },
  {
   "cell_type": "code",
   "execution_count": 4,
   "id": "dd1a4468-98d1-4b60-bdf5-030f327d6b0b",
   "metadata": {},
   "outputs": [
    {
     "name": "stdout",
     "output_type": "stream",
     "text": [
      "25000\n"
     ]
    }
   ],
   "source": [
    "population = 25000\n",
    "print(population)"
   ]
  },
  {
   "cell_type": "markdown",
   "id": "7e20c8f2-9169-45b6-b3b0-a65ce5615cad",
   "metadata": {},
   "source": [
    "Math operations can be performed with numbers."
   ]
  },
  {
   "cell_type": "code",
   "execution_count": 5,
   "id": "97c42f22-4eab-466d-85aa-7fa3bd3baa79",
   "metadata": {},
   "outputs": [
    {
     "name": "stdout",
     "output_type": "stream",
     "text": [
      "10\n",
      "5\n",
      "15\n",
      "5.0\n"
     ]
    }
   ],
   "source": [
    "print(7 + 3)\n",
    "print(10 - 5)\n",
    "print(5 * 3)\n",
    "print(10 / 2)"
   ]
  },
  {
   "cell_type": "markdown",
   "id": "d819f438-cdcc-403c-b66e-951fe2457a7b",
   "metadata": {},
   "source": [
    "## Working with variables"
   ]
  },
  {
   "cell_type": "markdown",
   "id": "f4606f05-4800-4b7e-94f6-9e510bdb509f",
   "metadata": {},
   "source": [
    "Variables are key to software development. They allow you to store, label and play with data."
   ]
  },
  {
   "cell_type": "code",
   "execution_count": 6,
   "id": "48df9830-a4e7-4373-9df8-3012d60bfd3e",
   "metadata": {},
   "outputs": [
    {
     "name": "stdout",
     "output_type": "stream",
     "text": [
      "medium\n",
      "34\n"
     ]
    }
   ],
   "source": [
    "size = \"medium\"\n",
    "age = 34\n",
    "print(size)\n",
    "print(age)"
   ]
  },
  {
   "cell_type": "markdown",
   "id": "54465227-63ff-4db3-ba9d-4af7b989dc85",
   "metadata": {},
   "source": [
    "Variables can be accessed by directly calling its name.\n",
    "\n",
    "Calculations can be made by using the values in variables."
   ]
  },
  {
   "cell_type": "code",
   "execution_count": 7,
   "id": "aafe9fec-9025-4112-8a54-d8da9b1546fe",
   "metadata": {},
   "outputs": [
    {
     "name": "stdout",
     "output_type": "stream",
     "text": [
      "30\n"
     ]
    }
   ],
   "source": [
    "budget = 20\n",
    "print(budget + 10)"
   ]
  },
  {
   "cell_type": "markdown",
   "id": "a305a7a0-6315-4786-a7ff-6c04ddefdc0a",
   "metadata": {},
   "source": [
    "Result of a calculation can be stored in a variable."
   ]
  },
  {
   "cell_type": "code",
   "execution_count": 8,
   "id": "aa5668c8-7539-4114-b814-fb22cde7f124",
   "metadata": {},
   "outputs": [
    {
     "name": "stdout",
     "output_type": "stream",
     "text": [
      "15\n"
     ]
    }
   ],
   "source": [
    "score = 7 + 8\n",
    "print(score)"
   ]
  },
  {
   "cell_type": "markdown",
   "id": "328b45f2-6a20-4564-ba21-eb46459e7260",
   "metadata": {},
   "source": [
    "Variables can be reassigned a value."
   ]
  },
  {
   "cell_type": "code",
   "execution_count": 9,
   "id": "729ef22e-c9da-4d35-a175-d3785e55b939",
   "metadata": {},
   "outputs": [
    {
     "name": "stdout",
     "output_type": "stream",
     "text": [
      "45\n"
     ]
    }
   ],
   "source": [
    "points = 35\n",
    "points = 45\n",
    "print(points)"
   ]
  },
  {
   "cell_type": "markdown",
   "id": "2cbb2dae-f680-4c11-a2eb-a2a6a0e267e1",
   "metadata": {},
   "source": [
    "# Going Deeper with Python"
   ]
  },
  {
   "cell_type": "markdown",
   "id": "238d26f3-99fa-4973-84b8-15ae65c47904",
   "metadata": {},
   "source": [
    "## Debugging"
   ]
  },
  {
   "attachments": {
    "0a164ca1-031c-4914-8142-d9d68b22be37.webp": {
     "image/webp": "[encoded data removed]"
    }
   },
   "cell_type": "markdown",
   "id": "d9caae6f-b347-4cbe-94bb-0c44aab9379c",
   "metadata": {},
   "source": [
    "![7ed6797d1352483a835775ee342c7da0-frame.webp](attachment:0a164ca1-031c-4914-8142-d9d68b22be37.webp)\n",
    "\n",
    "Coding consists of 3 steps: -\n",
    "\n",
    "- Writing\n",
    "- Executing (or running)\n",
    "- Fixing Errors (or debugging)\n",
    "\n",
    "Bugs are expecting part of writing code. A piece of code can contain multiple bugs.\n",
    "\n",
    "If the code has multiple bugs, all of them need to be fixed for it be executed successfully.\n",
    "\n",
    "The python interpreter reads and executes instructions line by line, from top to botton. Execution of a program halts at the firest error encountered.\n",
    "\n",
    "Calling the name of a variable that hasn't been defined is a very common error."
   ]
  },
  {
   "cell_type": "markdown",
   "id": "21793fd7-6c3a-448f-a024-8115681cf6fa",
   "metadata": {},
   "source": [
    "## Applying best practices"
   ]
  },
  {
   "cell_type": "markdown",
   "id": "0ce5893d-86e0-46f3-a1b6-ca165356e948",
   "metadata": {},
   "source": [
    "- Spaces are not allowed in variable names.\n",
    "- Python is case-sensitive. `var` and `Var` are different variables.\n",
    "- Use `#` for comments.\n",
    "- Variable name can contain numbers but cannot start with a number.\n",
    "- A variable can be used to construct a new variable."
   ]
  },
  {
   "cell_type": "markdown",
   "id": "21c2df06-ac11-458e-947e-8e371ee1536c",
   "metadata": {},
   "source": [
    "## Inputs and outputs"
   ]
  },
  {
   "cell_type": "markdown",
   "id": "d18f21be-c816-4e3b-a98a-7bebf3bbb600",
   "metadata": {},
   "source": [
    "Computer programs are designed to interact with users and the outside world.\n",
    "\n",
    "An input is any information that goes into a computer.\n",
    "\n",
    "The `input()` function allows a user to insert a value into a program."
   ]
  },
  {
   "cell_type": "code",
   "execution_count": 10,
   "id": "67749773-7a95-4411-a58b-c45dc7c9bbf5",
   "metadata": {},
   "outputs": [
    {
     "name": "stdin",
     "output_type": "stream",
     "text": [
      " greetings\n"
     ]
    },
    {
     "name": "stdout",
     "output_type": "stream",
     "text": [
      "greetings\n"
     ]
    }
   ],
   "source": [
    "message = input()\n",
    "print(message)"
   ]
  },
  {
   "cell_type": "markdown",
   "id": "bb630d3d-ea00-4f7c-b448-0d022dab60d0",
   "metadata": {},
   "source": [
    "An output is a way for the program to communicate with the outside world for example, a message displayed on the screen.\n",
    "\n",
    "`print()` function is a way to generate a program's output."
   ]
  },
  {
   "cell_type": "markdown",
   "id": "1de4d93a-43da-44a2-8986-11aa336530f5",
   "metadata": {},
   "source": [
    "## Data types"
   ]
  },
  {
   "cell_type": "markdown",
   "id": "bb83adf5-25f8-4249-b9db-61f7f4c61415",
   "metadata": {},
   "source": [
    "**String** is the data type for a piece of text. The quotation marks tell the interpreter that a value needs to be stored as a string."
   ]
  },
  {
   "cell_type": "code",
   "execution_count": 11,
   "id": "d4f22c99-556a-41de-a15d-1158311bb1a7",
   "metadata": {},
   "outputs": [],
   "source": [
    "message = \"hello\""
   ]
  },
  {
   "cell_type": "markdown",
   "id": "5082db1e-6a54-408c-9156-39120293dc46",
   "metadata": {},
   "source": [
    "**Integers** are whole numbers without a decimal point. They can be positive, negative or zero."
   ]
  },
  {
   "cell_type": "code",
   "execution_count": 12,
   "id": "83c80efc-17c0-493c-89eb-1cf1a9be0d8f",
   "metadata": {},
   "outputs": [],
   "source": [
    "num = 666"
   ]
  },
  {
   "cell_type": "markdown",
   "id": "d930158b-d908-441b-8583-85190a34dc66",
   "metadata": {},
   "source": [
    "**Float** is the data type for numbers with decimal places. Can be positive or negative."
   ]
  },
  {
   "cell_type": "code",
   "execution_count": 13,
   "id": "6e85248e-9da0-4a12-bb98-6d32aac57da1",
   "metadata": {},
   "outputs": [],
   "source": [
    "pi = 3.14"
   ]
  },
  {
   "cell_type": "markdown",
   "id": "16d4e2f8-f5e2-4c35-955d-b2d6cd99d5c0",
   "metadata": {},
   "source": [
    "Using the addition operator with string values results in the two strings joined together. This is known as **concatenation**."
   ]
  },
  {
   "cell_type": "code",
   "execution_count": 14,
   "id": "9e92df13-d1d1-45a0-896c-d977bddab861",
   "metadata": {},
   "outputs": [
    {
     "name": "stdout",
     "output_type": "stream",
     "text": [
      "basketball\n",
      "42069\n"
     ]
    }
   ],
   "source": [
    "a = \"basket\"\n",
    "b = \"ball\"\n",
    "print(a + b)\n",
    "print(\"420\" + \"69\")"
   ]
  },
  {
   "cell_type": "markdown",
   "id": "b674f82e-9bed-42ff-b655-9e03ae0672bd",
   "metadata": {},
   "source": [
    "# Working with data"
   ]
  },
  {
   "cell_type": "markdown",
   "id": "3cad0756-6c61-434f-90dc-a9d63d331c80",
   "metadata": {},
   "source": [
    "## Data type checking"
   ]
  },
  {
   "cell_type": "markdown",
   "id": "c5869f87-ff00-4af2-b6ac-8612d9d032ac",
   "metadata": {},
   "source": [
    "Dealing with data in the incorrect format can result in data loss or corruption.\n",
    "\n",
    "Numbers can't be added to a string.\n",
    "\n",
    "`type()` function is used to check the data type of a variable"
   ]
  },
  {
   "cell_type": "code",
   "execution_count": 15,
   "id": "253065e9-8671-4589-b4d6-4e15da381e85",
   "metadata": {},
   "outputs": [
    {
     "name": "stdout",
     "output_type": "stream",
     "text": [
      "<class 'float'>\n",
      "<class 'int'>\n",
      "<class 'str'>\n"
     ]
    }
   ],
   "source": [
    "balance = 123.4\n",
    "number = 56\n",
    "string = \"hello\"\n",
    "print(type(balance))\n",
    "print(type(number))\n",
    "print(type(string))"
   ]
  },
  {
   "cell_type": "markdown",
   "id": "799e084b-29c2-4b92-b016-96ec9ed601e6",
   "metadata": {},
   "source": [
    "Division of two integers always produces a float."
   ]
  },
  {
   "cell_type": "code",
   "execution_count": 16,
   "id": "672b19ed-9bb7-4bae-9e33-e0a16bb39d6e",
   "metadata": {},
   "outputs": [
    {
     "name": "stdout",
     "output_type": "stream",
     "text": [
      "<class 'float'>\n"
     ]
    }
   ],
   "source": [
    "print(type(4/2))"
   ]
  },
  {
   "cell_type": "markdown",
   "id": "f8e91bcc-a610-459b-b169-739243e60506",
   "metadata": {},
   "source": [
    "## Data Conversion"
   ]
  },
  {
   "cell_type": "markdown",
   "id": "976f4034-2cb7-4d8d-bb25-76446356b18a",
   "metadata": {},
   "source": [
    "`input()` funtion always turns the user input into a string regardless of what the user enters."
   ]
  },
  {
   "cell_type": "code",
   "execution_count": 17,
   "id": "bc556271-fae8-4ec0-a143-b6026476d314",
   "metadata": {},
   "outputs": [
    {
     "name": "stdin",
     "output_type": "stream",
     "text": [
      " 1998\n"
     ]
    },
    {
     "name": "stdout",
     "output_type": "stream",
     "text": [
      "<class 'str'>\n"
     ]
    }
   ],
   "source": [
    "birth_year = input()\n",
    "print(type(birth_year))"
   ]
  },
  {
   "cell_type": "markdown",
   "id": "e1f68ac5-62fe-4c97-8c96-d454f252fa79",
   "metadata": {},
   "source": [
    "`int()` converts a value into an integer."
   ]
  },
  {
   "cell_type": "code",
   "execution_count": 18,
   "id": "63a03e58-1a40-45ee-8cb9-91463cfdda10",
   "metadata": {},
   "outputs": [
    {
     "name": "stdout",
     "output_type": "stream",
     "text": [
      "<class 'str'>\n",
      "<class 'int'>\n"
     ]
    }
   ],
   "source": [
    "x = '55'\n",
    "y = int(x)\n",
    "print(type(x))\n",
    "print(type(y))"
   ]
  },
  {
   "cell_type": "markdown",
   "id": "a710ef8b-77b1-4732-afa8-6281f41e5eba",
   "metadata": {},
   "source": [
    "`int()` can be used to convert user input into an integer."
   ]
  },
  {
   "cell_type": "markdown",
   "id": "5c53a7c6-11d6-46c6-b190-c55c0d98f137",
   "metadata": {},
   "source": [
    "birth_year = int(input())\n",
    "print(type(birth_year))"
   ]
  },
  {
   "cell_type": "markdown",
   "id": "ddfb180a-da6a-433f-8746-6a1c5020b66a",
   "metadata": {},
   "source": [
    "`float()` converts values into floats."
   ]
  },
  {
   "cell_type": "code",
   "execution_count": 19,
   "id": "fdc8b4c6-62fe-4620-823a-1ac79c36034d",
   "metadata": {},
   "outputs": [
    {
     "name": "stdout",
     "output_type": "stream",
     "text": [
      "<class 'int'>\n",
      "<class 'float'>\n"
     ]
    }
   ],
   "source": [
    "a = 15\n",
    "b = float(a)\n",
    "print(type(a))\n",
    "print(type(b))"
   ]
  },
  {
   "cell_type": "markdown",
   "id": "16a6b54f-e1df-418a-97d4-37548447f811",
   "metadata": {},
   "source": [
    "`str()` converts values into strings"
   ]
  },
  {
   "cell_type": "code",
   "execution_count": 20,
   "id": "15dc2055-0b15-48ac-897c-33ea3274f80d",
   "metadata": {},
   "outputs": [
    {
     "name": "stdout",
     "output_type": "stream",
     "text": [
      "<class 'float'>\n",
      "<class 'str'>\n"
     ]
    }
   ],
   "source": [
    "a = 3.14\n",
    "pi = str(a)\n",
    "print(type(a))\n",
    "print(type(pi))"
   ]
  },
  {
   "cell_type": "markdown",
   "id": "da5e7718-ca94-47b4-b1e7-2b76664c0de9",
   "metadata": {},
   "source": [
    "`int()` `float()` and `str()` functions are examples of explicit conversion.\n",
    "\n",
    "An example of implicit conversion would be when two int types are divided, the result gets automatically converted to float type."
   ]
  },
  {
   "cell_type": "markdown",
   "id": "0d6f882e-aebf-4ace-b797-1e6023187c6f",
   "metadata": {},
   "source": [
    "## Fixing data types"
   ]
  },
  {
   "cell_type": "markdown",
   "id": "25bdfd95-35a7-47ba-a365-44b281cd3501",
   "metadata": {},
   "source": [
    "Program execution can fail if data is in incorrect format.\n",
    "\n",
    "`str()` function can be used in concatenation."
   ]
  },
  {
   "cell_type": "code",
   "execution_count": 21,
   "id": "f6b36db4-379d-4ea9-ad9a-5da271c3462a",
   "metadata": {},
   "outputs": [
    {
     "name": "stdout",
     "output_type": "stream",
     "text": [
      "14km\n"
     ]
    }
   ],
   "source": [
    "distance = 14\n",
    "units = \"km\"\n",
    "print(str(distance) + units)"
   ]
  },
  {
   "cell_type": "markdown",
   "id": "02dfff20-7d7f-4d47-a28f-793f85a51938",
   "metadata": {},
   "source": [
    "Math operation between integers and floats, produce float. (implicit conversion)"
   ]
  },
  {
   "cell_type": "markdown",
   "id": "39c1435f-06e6-4c3d-b725-a63eff081cdf",
   "metadata": {},
   "source": [
    "## Comparison operations"
   ]
  },
  {
   "cell_type": "markdown",
   "id": "6b2ce904-60d9-46dc-a0e3-5ad00d3234fc",
   "metadata": {},
   "source": [
    "Comparison operators are key to the development of computer programs.\n",
    "\n",
    "A comparison operations always results in either two outcomes: Yes or No"
   ]
  },
  {
   "cell_type": "code",
   "execution_count": 22,
   "id": "1af9fff4-8ea8-447c-a73b-2771602f0858",
   "metadata": {},
   "outputs": [
    {
     "name": "stdout",
     "output_type": "stream",
     "text": [
      "True\n",
      "False\n"
     ]
    }
   ],
   "source": [
    "print(30 > 25)\n",
    "print(30 < 25)"
   ]
  },
  {
   "cell_type": "markdown",
   "id": "4f4d6917-eadb-4300-b224-8bec4abfa39e",
   "metadata": {},
   "source": [
    "**Boolean** data type has only two possible values: `True` and `False`\n",
    "\n",
    "Comparison operations and boolean values allows programs to make decisions.\n",
    "\n",
    "Booleans can be used to trigger certain actions in a program.\n",
    "\n",
    "A comparison operation always results in boolean."
   ]
  },
  {
   "cell_type": "markdown",
   "id": "4387e8fc-23ee-4036-ad2b-9466c413a7a4",
   "metadata": {},
   "source": [
    "## Logical operations"
   ]
  },
  {
   "cell_type": "markdown",
   "id": "020abee5-7ad6-4833-b362-801649fdceea",
   "metadata": {},
   "source": [
    "Logical operations are needed for machines to evaluate complex scenarios. Logical operations use boolean values.\n",
    "\n",
    "A logical operations takes several boolean inputs and produces only one boolean output."
   ]
  },
  {
   "attachments": {
    "6c27cef6-5471-4887-99ef-f9c5457b31f8.webp": {
     "image/webp": "[encoded data removed]"
    }
   },
   "cell_type": "markdown",
   "id": "9c2c32ae-2944-484a-89e7-ac05d4d892a5",
   "metadata": {},
   "source": [
    "The `and` logical operation results in a True value only when all the inputs are True.\n",
    "![27ce8d58334e43939ddf93db618e90ff-Python3.webp](attachment:6c27cef6-5471-4887-99ef-f9c5457b31f8.webp)"
   ]
  },
  {
   "cell_type": "code",
   "execution_count": 23,
   "id": "27cb18a3-c78d-428c-89a1-63596635e891",
   "metadata": {},
   "outputs": [
    {
     "name": "stdout",
     "output_type": "stream",
     "text": [
      "False\n",
      "True\n"
     ]
    }
   ],
   "source": [
    "print(True and False)\n",
    "print(True and True)"
   ]
  },
  {
   "attachments": {
    "e2b5e375-9f5c-4d06-bf77-240da4b15ddc.webp": {
     "image/webp": "[encoded data removed]"
    }
   },
   "cell_type": "markdown",
   "id": "85ddfaed-7a0f-4682-b13e-fe2cf55169be",
   "metadata": {},
   "source": [
    "The `or` logical operation results in a True value if at least one of the inputs is True.\n",
    "![42bd142180074f00aa326f9a2937c93f-Python3.webp](attachment:e2b5e375-9f5c-4d06-bf77-240da4b15ddc.webp)"
   ]
  },
  {
   "cell_type": "code",
   "execution_count": 24,
   "id": "9acf712d-154d-4ba0-ac76-8f4ba9d66e53",
   "metadata": {},
   "outputs": [
    {
     "name": "stdout",
     "output_type": "stream",
     "text": [
      "True\n",
      "False\n",
      "True\n"
     ]
    }
   ],
   "source": [
    "print(True or False)\n",
    "print(False or False)\n",
    "print(True or True)"
   ]
  },
  {
   "cell_type": "markdown",
   "id": "d8c0022f-e888-4b28-a748-634d048d93eb",
   "metadata": {},
   "source": [
    "The result of a logical opeation is always a boolean."
   ]
  },
  {
   "cell_type": "markdown",
   "id": "7478d761-3bf1-406f-82be-37e51a2a3a13",
   "metadata": {},
   "source": [
    "## Combining comparison and logical operations"
   ]
  },
  {
   "cell_type": "markdown",
   "id": "8b73af6e-9519-4ad7-8096-b926936f694a",
   "metadata": {},
   "source": [
    "Results of comparison and logical operations is always a boolean.\n",
    "\n",
    "Boolean values can be stored in a variable. The result of a comparison operation can be stored in a variable.\n",
    "\n",
    "Similarly, the result of logical operation can be stored in a variable.\n",
    "\n",
    "Logical and comparison operations can be combined."
   ]
  },
  {
   "cell_type": "code",
   "execution_count": 25,
   "id": "f55a8ea7-d402-4243-a41e-5e364575a834",
   "metadata": {},
   "outputs": [
    {
     "name": "stdout",
     "output_type": "stream",
     "text": [
      "True\n"
     ]
    }
   ],
   "source": [
    "presence = True\n",
    "temp = 35\n",
    "ac_on = (temp > 30) and presence\n",
    "print(ac_on)"
   ]
  },
  {
   "cell_type": "markdown",
   "id": "b0164385-3f51-4bda-9fed-8984763cf16c",
   "metadata": {},
   "source": [
    "# Control flow"
   ]
  },
  {
   "cell_type": "markdown",
   "id": "0e2efb3c-4a16-4398-9ad7-81b5d1cc1784",
   "metadata": {},
   "source": [
    "## Control flow"
   ]
  },
  {
   "cell_type": "markdown",
   "id": "4afefecd-ea8e-49c3-b452-294fc3f16165",
   "metadata": {},
   "source": [
    "Three control flow techniques: -\n",
    "\n",
    "- Sequences\n",
    "- Iterations\n",
    "- Selections"
   ]
  },
  {
   "attachments": {
    "eec22f20-57c7-4c70-981e-3327298010c5.png": {
     "image/png": "[encoded data removed]"
    }
   },
   "cell_type": "markdown",
   "id": "c3a66883-d749-462f-a6f2-a3df94afff3b",
   "metadata": {},
   "source": [
    "![a56fad8626534f8dbce5ea86a597dd99-4.01.03.png](attachment:eec22f20-57c7-4c70-981e-3327298010c5.png)\n",
    "\n",
    "**Sequencing** - code is run in order, from top to bottom."
   ]
  },
  {
   "cell_type": "code",
   "execution_count": 26,
   "id": "e82ccfcd-70a6-4ce8-b8a0-d43ad3bb0e25",
   "metadata": {},
   "outputs": [
    {
     "name": "stdout",
     "output_type": "stream",
     "text": [
      "1\n",
      "2\n",
      "3\n"
     ]
    }
   ],
   "source": [
    "print(1)\n",
    "print(2)\n",
    "print(3)"
   ]
  },
  {
   "attachments": {
    "be75f03d-f1f5-422c-9374-1bd39099643a.webp": {
     "image/webp": "[encoded data removed]"
    }
   },
   "cell_type": "markdown",
   "id": "a3025220-1a1c-45cc-a435-c87735b25a6e",
   "metadata": {},
   "source": [
    "![f092d716e74244f8a7cba05cfa36fffe-4.webp](attachment:be75f03d-f1f5-422c-9374-1bd39099643a.webp)\n",
    "\n",
    "**Iteration** is executing an instruction repeatedly. Commonly represented as a loop."
   ]
  },
  {
   "attachments": {
    "a7ad7602-b016-4ed0-8490-b400720cb7f2.png": {
     "image/png": "[encoded data removed]"
    }
   },
   "cell_type": "markdown",
   "id": "43a9d273-a777-4fd8-b6c2-f2ec3563c9d7",
   "metadata": {},
   "source": [
    "![25cbc8fa104842e195d9ad8fe237d78b-4.01.05.png](attachment:a7ad7602-b016-4ed0-8490-b400720cb7f2.png)\n",
    "\n",
    "**Sequencing** specifies when to follow each path."
   ]
  },
  {
   "attachments": {
    "89355578-3469-47d2-818a-bd352fbb2fa3.png": {
     "image/png": "[encoded data removed]"
    }
   },
   "cell_type": "markdown",
   "id": "faff3e16-9800-4b81-87d8-62a26a966edc",
   "metadata": {},
   "source": [
    "**Algorithm** is a set of step-by-step instruction to complete a task. There are different ways to represent an algorithm: -\n",
    "\n",
    "![e131e077bce64677b4b580452e9f1b5a-4.01.15.png](attachment:89355578-3469-47d2-818a-bd352fbb2fa3.png)\n",
    "\n",
    "1. Natural language\n",
    "2. Pseudocode\n",
    "3. Flowchart"
   ]
  },
  {
   "cell_type": "markdown",
   "id": "17e738dc-5803-4501-889a-b7c225a1f90a",
   "metadata": {},
   "source": [
    "## For loops"
   ]
  },
  {
   "attachments": {
    "084bdf6a-0f23-4487-947e-d0fe71eab440.webp": {
     "image/webp": "[encoded data removed]"
    }
   },
   "cell_type": "markdown",
   "id": "82fcb81f-430f-4f50-8330-5cc5fc31ab61",
   "metadata": {
    "jp-MarkdownHeadingCollapsed": true
   },
   "source": [
    "![e452309c9ec14e3cbfcfd7aa04d8062c-4.webp](attachment:084bdf6a-0f23-4487-947e-d0fe71eab440.webp)\n",
    "\n",
    "a **for loop** is used to execute same instruction over and over again, a specific number of times.\n",
    "\n",
    "```\n",
    "for(condition):\n",
    "    statement\n",
    "```"
   ]
  },
  {
   "cell_type": "code",
   "execution_count": 27,
   "id": "c89a2e35-8330-4569-8ad1-41c7af01cfe2",
   "metadata": {},
   "outputs": [
    {
     "name": "stdout",
     "output_type": "stream",
     "text": [
      "0\n",
      "1\n",
      "2\n",
      "3\n",
      "4\n"
     ]
    }
   ],
   "source": [
    "for i in range(5):\n",
    "    print(i)"
   ]
  },
  {
   "cell_type": "markdown",
   "id": "386bc099-766b-4a8e-bb23-a8febae4fc73",
   "metadata": {},
   "source": [
    "`range()` creates a sequence starting from 0.\n",
    "\n",
    "The code to repeated must be indented in the for block."
   ]
  },
  {
   "cell_type": "markdown",
   "id": "adb56cbc-84fa-4ba9-bd99-1ed7e2d04a75",
   "metadata": {},
   "source": [
    "## While loops"
   ]
  },
  {
   "cell_type": "markdown",
   "id": "9b577297-040f-4ff9-b553-ca2c78c2c853",
   "metadata": {},
   "source": [
    "Used when number of iterations are unknown. **While loops** repeat code whilst a condition holds true.\n",
    "\n",
    "```\n",
    "while(condition):\n",
    "    statement\n",
    "    counter += 1\n",
    "```\n",
    "\n",
    "When condition no longer holds true, the loop exits.\n",
    "\n",
    "Counters: keeps track on the number of iterations. They're updated inside the loop, changing with each iteration, and initialized outside loop."
   ]
  },
  {
   "cell_type": "code",
   "execution_count": 28,
   "id": "be61ed20-641d-4249-976b-5e27f81336d1",
   "metadata": {},
   "outputs": [
    {
     "name": "stdout",
     "output_type": "stream",
     "text": [
      "seat sold (5)\n",
      "seat sold (4)\n",
      "seat sold (3)\n",
      "seat sold (2)\n",
      "seat sold (1)\n",
      "house full\n"
     ]
    }
   ],
   "source": [
    "seats = 5\n",
    "while(seats > 0):\n",
    "    print(f\"seat sold ({seats})\")\n",
    "    seats -= 1\n",
    "print(\"house full\")"
   ]
  },
  {
   "cell_type": "markdown",
   "id": "b7fa5528-1bcf-4867-bdff-479d64783002",
   "metadata": {},
   "source": [
    "## Conditional statements"
   ]
  },
  {
   "attachments": {
    "148a2be3-4c7f-421f-a5c4-2de7e6012ca1.webp": {
     "image/webp": "[encoded data removed]"
    }
   },
   "cell_type": "markdown",
   "id": "9bd02fd5-43f0-4c3c-bbcd-7f1fb5846d51",
   "metadata": {},
   "source": [
    "![49a51649c2bd451e91afb5eff1cb5b83-4.webp](attachment:148a2be3-4c7f-421f-a5c4-2de7e6012ca1.webp)\n",
    "\n",
    "Selection allows proggrams to decide which path to take.\n",
    "\n",
    "Conditional statements, or **if-else statements**, allow programs to perform different actions based on the conditions.\n",
    "\n",
    "```\n",
    "if condition:\n",
    "    statement1\n",
    "elif condition:\n",
    "    statement2\n",
    "else:\n",
    "    statement3\n",
    "```\n",
    "\n",
    "`else` statements can be skipped if it isn't needed\n",
    "\n",
    "`elif` statement can be used to check for more conditions if the first condition isn't met.\n",
    "\n",
    "if-else staements can be nested within each other."
   ]
  },
  {
   "cell_type": "code",
   "execution_count": 29,
   "id": "c9650513-8bb6-4e2c-9f92-bbb59accf99d",
   "metadata": {},
   "outputs": [
    {
     "name": "stdout",
     "output_type": "stream",
     "text": [
      "20% discount\n",
      "Proceed to payment\n"
     ]
    }
   ],
   "source": [
    "age = 16\n",
    "is_student = True\n",
    "\n",
    "if age < 18:\n",
    "    if is_student:\n",
    "        print(\"20% discount\")\n",
    "    else:\n",
    "        print(\"10% discount\")\n",
    "elif age >= 75:\n",
    "    print(\"Senior discount\")\n",
    "else:\n",
    "    print(\"Regular price\")\n",
    "print(\"Proceed to payment\")"
   ]
  },
  {
   "cell_type": "markdown",
   "id": "03388ac8-8615-462f-8055-dd8a14ce967a",
   "metadata": {},
   "source": [
    "# Working with lists"
   ]
  },
  {
   "cell_type": "markdown",
   "id": "d4a00651-264b-4ab8-ae72-69075ca2eed4",
   "metadata": {},
   "source": [
    "## Lists"
   ]
  },
  {
   "cell_type": "markdown",
   "id": "be478a7c-22f3-48c4-a47c-dcc819c7415f",
   "metadata": {},
   "source": [
    "Allows storing multiple values as a collection in a single variable. `[]`\n",
    "\n",
    "`list = [1, 2, 'three', True]`\n",
    "\n",
    "Lists can store any datatype along with storing different datatypes in the same list.\n",
    "\n",
    "Ordered collection of items. List items can be accessed using its position, called its index number.\n",
    "\n",
    "Lists are mutable. Values can be changed after they've been created."
   ]
  },
  {
   "cell_type": "code",
   "execution_count": 30,
   "id": "8b3cb6c8-a725-460e-85fe-3c6e61592fa4",
   "metadata": {},
   "outputs": [
    {
     "name": "stdout",
     "output_type": "stream",
     "text": [
      "[1, 2, 'three', True]\n",
      "1\n",
      "True\n",
      "False\n"
     ]
    }
   ],
   "source": [
    "items = [1, 2, 'three', True]\n",
    "print(items)\n",
    "print(items[0])\n",
    "print(items[3])\n",
    "items[3] = False\n",
    "print(items[3])"
   ]
  },
  {
   "cell_type": "markdown",
   "id": "b94dc88a-6b7b-4a3e-b9eb-01cfff5e8dc0",
   "metadata": {},
   "source": [
    "Strings can be indexed like lists as they're an ordered collection as well. However, unlike lists, they're immutable which means once assigned, their values cannot be changed.\n",
    "\n",
    "Indexing starts with 0.\n",
    "\n",
    "A list can be created with values that have been stored in variables."
   ]
  },
  {
   "cell_type": "code",
   "execution_count": 31,
   "id": "a1487c6f-33b8-4ead-97e5-7c6fa8a58312",
   "metadata": {},
   "outputs": [
    {
     "name": "stdout",
     "output_type": "stream",
     "text": [
      "['Melanie', 23, 'Canada']\n",
      "Canada\n"
     ]
    }
   ],
   "source": [
    "name = \"Melanie\"\n",
    "age = 23\n",
    "country = \"Canada\"\n",
    "info = [name, age, country]\n",
    "print(info)\n",
    "print(info[2])"
   ]
  },
  {
   "cell_type": "markdown",
   "id": "0123e0cd-7775-4a5c-9f8e-f96088b944d3",
   "metadata": {},
   "source": [
    "## Slicing"
   ]
  },
  {
   "cell_type": "markdown",
   "id": "3c161fa5-5cac-4d98-b3fb-b4c64014390a",
   "metadata": {},
   "source": [
    "Slicing used to extract, modify and replace a specific range of elements from sequence.\n",
    "\n",
    "**Slicing** can be used to extract a portion of a list. Starting and stopping indexes are separated by a colon `:`. The starting index is inclusive and the stopping index is exclusive.\n",
    "\n",
    "Slicing a list produces another list. Slicing a string produces another string.\n",
    "\n",
    "Omitting starting index means slicing from the first element.\n",
    "\n",
    "Omitting stopping index means slicing until last element.\n",
    "\n",
    "Indexing and slicing works with lists & strings because they're ordered sequences.\n",
    "\n",
    "Negative indexing is indexing sequences from the end. Last value of a sequence has index -1.\n",
    "\n",
    "Positive and negative indexes can be combined in slicing."
   ]
  },
  {
   "cell_type": "code",
   "execution_count": 32,
   "id": "9f51b239-ddd0-4021-9259-546e5c290b62",
   "metadata": {},
   "outputs": [
    {
     "name": "stdout",
     "output_type": "stream",
     "text": [
      "['dog']\n",
      "['cat', 'dog']\n",
      "['dog', 'bird', 'cow']\n",
      "cow\n",
      "bird\n",
      "['dog', 'bird']\n"
     ]
    }
   ],
   "source": [
    "animals = ['cat', 'dog', 'bird', 'cow']\n",
    "print(animals[1:2])\n",
    "print(animals[:2])\n",
    "print(animals[1:])\n",
    "print(animals[-1])\n",
    "print(animals[-2])\n",
    "print(animals[-3:-1])"
   ]
  },
  {
   "cell_type": "markdown",
   "id": "f11e7578-2bf1-4886-9463-defc1d0a5ac4",
   "metadata": {},
   "source": [
    "# Functions"
   ]
  },
  {
   "cell_type": "markdown",
   "id": "a5d7fcb8-9a1a-41ba-9f6c-7f960df0f8d3",
   "metadata": {},
   "source": [
    "## Functions"
   ]
  },
  {
   "cell_type": "markdown",
   "id": "aa9ad851-659d-4f95-a047-f5ec6f416c29",
   "metadata": {},
   "source": [
    "Functions are reusable blocks of used for specific tasks. It keeps the code as short and easy to work with as possible.\n",
    "\n",
    "Contains code to perform a specific task. Function is called to make use of this code.\n",
    "\n",
    "Every function has a name and the code within it is only executed when the function gets called.\n",
    "\n",
    "Makes the code reusable. Same function can be used multiple times.\n",
    "\n",
    "Some functions require additional information to be processed for a task to be completed. Info passed to a function are called **arguments**.\n",
    "\n",
    "`print(\"hello\")` -> function name: `print` | function argument: `\"hello\"`\n",
    "\n",
    "`range(num)`: takes a number as argument and generates a sequence.\n",
    "\n",
    "Missing arguments can cause errors.\n",
    "\n",
    "Functions can take multiple arguments separated by commas.\n",
    "\n",
    "`print()`, `range()` & `type()` are examples of built-in functions."
   ]
  },
  {
   "cell_type": "markdown",
   "id": "35a090a9-7efd-47e4-bb4a-c87307cc7f04",
   "metadata": {},
   "source": [
    "## Function arguments"
   ]
  },
  {
   "cell_type": "markdown",
   "id": "f8fe780f-9c70-44fe-a939-6c499fa47529",
   "metadata": {},
   "source": [
    "`print()` function accepts multiple arguments of any data type"
   ]
  },
  {
   "cell_type": "code",
   "execution_count": 33,
   "id": "17c659d9-2851-4814-ba1f-3b47453ade19",
   "metadata": {},
   "outputs": [
    {
     "name": "stdout",
     "output_type": "stream",
     "text": [
      "python is cool\n"
     ]
    }
   ],
   "source": [
    "print('python', 'is', 'cool')"
   ]
  },
  {
   "cell_type": "markdown",
   "id": "b027d3f3-6d4f-482b-927f-7355d2efae8c",
   "metadata": {},
   "source": [
    "`print()` can take operations (arithmetical, logical & comparison) as arguments as well."
   ]
  },
  {
   "cell_type": "code",
   "execution_count": 34,
   "id": "1d336635-c712-41f3-9bf6-34915e7378ff",
   "metadata": {},
   "outputs": [
    {
     "name": "stdout",
     "output_type": "stream",
     "text": [
      "2.5\n",
      "True\n",
      "False\n"
     ]
    }
   ],
   "source": [
    "print(5 / 2)\n",
    "print(True or False)\n",
    "print(55 > 66)"
   ]
  },
  {
   "cell_type": "markdown",
   "id": "08a1516d-5bfc-411f-8edb-5eb7e8418f38",
   "metadata": {},
   "source": [
    "`range()` accepts only integers as argument."
   ]
  },
  {
   "cell_type": "code",
   "execution_count": 35,
   "id": "0e9f52f7-c71d-4fc4-8801-b992924c88be",
   "metadata": {},
   "outputs": [
    {
     "name": "stdout",
     "output_type": "stream",
     "text": [
      "range(0, 5)\n",
      "[0, 1, 2, 3, 4]\n"
     ]
    }
   ],
   "source": [
    "print(range(5))       # prints range object\n",
    "print(list(range(5))) # list() converts range object to a list"
   ]
  },
  {
   "cell_type": "markdown",
   "id": "1eefab77-c3af-45ea-99b0-54dbc4712389",
   "metadata": {},
   "source": [
    "Values stored in variables can also be used as arguments."
   ]
  },
  {
   "cell_type": "code",
   "execution_count": 36,
   "id": "648cf661-529d-43bc-af4e-2ed04450b630",
   "metadata": {},
   "outputs": [
    {
     "name": "stdout",
     "output_type": "stream",
     "text": [
      "5\n"
     ]
    }
   ],
   "source": [
    "size = 5\n",
    "print(size)"
   ]
  },
  {
   "cell_type": "markdown",
   "id": "91d9ef8a-c27b-41a6-ae15-56be7e370091",
   "metadata": {},
   "source": [
    "A function can be an argument for another function."
   ]
  },
  {
   "cell_type": "code",
   "execution_count": 37,
   "id": "9ac43110-6775-4d7b-9447-aa60260eeea6",
   "metadata": {},
   "outputs": [
    {
     "name": "stdout",
     "output_type": "stream",
     "text": [
      "<class 'bool'>\n",
      "range(0, 3)\n"
     ]
    }
   ],
   "source": [
    "print(type(True)) # type() function is the argument for print() function\n",
    "print(range(3)) # range() function is the argument for print() function"
   ]
  },
  {
   "cell_type": "markdown",
   "id": "c311d403-9c32-40fc-9e58-d35a4bba399f",
   "metadata": {},
   "source": [
    "Passing incorrect data types as arguments can cause errors."
   ]
  },
  {
   "cell_type": "code",
   "execution_count": 38,
   "id": "c2f8efb6-008b-4794-8217-8256a6fd22ed",
   "metadata": {},
   "outputs": [
    {
     "ename": "ValueError",
     "evalue": "invalid literal for int() with base 10: 'five'",
     "output_type": "error",
     "traceback": [
      "\u001b[1;31m---------------------------------------------------------------------------\u001b[0m",
      "\u001b[1;31mValueError\u001b[0m                                Traceback (most recent call last)",
      "Cell \u001b[1;32mIn[38], line 1\u001b[0m\n\u001b[1;32m----> 1\u001b[0m \u001b[38;5;28mint\u001b[39m(\u001b[38;5;124m\"\u001b[39m\u001b[38;5;124mfive\u001b[39m\u001b[38;5;124m\"\u001b[39m)\n",
      "\u001b[1;31mValueError\u001b[0m: invalid literal for int() with base 10: 'five'"
     ]
    }
   ],
   "source": [
    "int(\"five\")"
   ]
  },
  {
   "cell_type": "markdown",
   "id": "a0390266-75b2-4030-90e6-7c44bde75471",
   "metadata": {},
   "source": [
    "## String functions"
   ]
  },
  {
   "cell_type": "markdown",
   "id": "1f033e1c-a31f-4e40-bf69-15402188fd38",
   "metadata": {},
   "source": [
    "1. `upper()` and `lower()` to change the case of a string to upper-case or lower-case respectively"
   ]
  },
  {
   "cell_type": "code",
   "execution_count": 39,
   "id": "bb717742-5303-4424-9fc9-9f22531f5f36",
   "metadata": {},
   "outputs": [
    {
     "name": "stdout",
     "output_type": "stream",
     "text": [
      "SPONGEBOB\n",
      "spongebob\n"
     ]
    }
   ],
   "source": [
    "name = \"sPoNgEbOb\"\n",
    "print(name.upper())\n",
    "print(name.lower())"
   ]
  },
  {
   "cell_type": "markdown",
   "id": "6a8e3a2a-ac2e-407b-bb7b-7fb8e57240d8",
   "metadata": {},
   "source": [
    "2. `capitalize()` converts first character of a string to upper-case and remaining to lower-case"
   ]
  },
  {
   "cell_type": "code",
   "execution_count": 40,
   "id": "828a60cd-13af-4d10-92e6-b5cb28c3cc02",
   "metadata": {},
   "outputs": [
    {
     "name": "stdout",
     "output_type": "stream",
     "text": [
      "Python is cool.\n"
     ]
    }
   ],
   "source": [
    "str = \"pYTHON is CooL.\"\n",
    "print(str.capitalize())"
   ]
  },
  {
   "cell_type": "markdown",
   "id": "8410781b-5d05-49ef-bb37-e83b40bbdd4a",
   "metadata": {},
   "source": [
    "Strings are immutable. Built-in functions can't change them. They must be stored in another variable.\n",
    "\n",
    "3. `find()` checks if a character or pattern is present in a string. Returns index of the given value (in case of multiple occurences, only considers the first match). Returns -1 if value can't be found."
   ]
  },
  {
   "cell_type": "code",
   "execution_count": 41,
   "id": "1a87cdfd-5d00-4c0b-829f-30104bd56066",
   "metadata": {},
   "outputs": [
    {
     "name": "stdout",
     "output_type": "stream",
     "text": [
      "2\n",
      "-1\n"
     ]
    }
   ],
   "source": [
    "item = \"tacocat\"\n",
    "print(item.find(\"c\"))\n",
    "print(item.find(\"n\"))"
   ]
  },
  {
   "cell_type": "markdown",
   "id": "3cc49095-d4e5-47e1-b6f0-5256956f17f9",
   "metadata": {},
   "source": [
    "## List functions"
   ]
  },
  {
   "cell_type": "markdown",
   "id": "3f523a96-3a2f-4a1d-972b-71c853c19af4",
   "metadata": {},
   "source": [
    "1. `len()`: returns number of items in list. Accepts any sequence type as argument."
   ]
  },
  {
   "cell_type": "code",
   "execution_count": 42,
   "id": "057298db-c45a-44df-b993-f02a546c525c",
   "metadata": {},
   "outputs": [
    {
     "name": "stdout",
     "output_type": "stream",
     "text": [
      "3\n",
      "5\n"
     ]
    }
   ],
   "source": [
    "print(len([1, 2, 3]))\n",
    "print(len(\"hello\"))"
   ]
  },
  {
   "cell_type": "markdown",
   "id": "f10012a2-6ac1-499b-a07b-b0567a86a9ab",
   "metadata": {},
   "source": [
    "2. `append()`: adds an element to the end of the list."
   ]
  },
  {
   "cell_type": "code",
   "execution_count": 43,
   "id": "b6b735e8-70da-4a73-9dfe-5c56e6147f6a",
   "metadata": {},
   "outputs": [
    {
     "name": "stdout",
     "output_type": "stream",
     "text": [
      "[1, 2, 3, 4]\n"
     ]
    }
   ],
   "source": [
    "list = [1, 2, 3]\n",
    "list.append(4)\n",
    "print(list)"
   ]
  },
  {
   "cell_type": "markdown",
   "id": "6a86c1ba-debb-4e83-ab2e-c2f37c495455",
   "metadata": {},
   "source": [
    "3. `insert()`: adds an element at a specified index."
   ]
  },
  {
   "cell_type": "code",
   "execution_count": 44,
   "id": "801eae89-681a-46d7-b198-65424cd73915",
   "metadata": {},
   "outputs": [
    {
     "name": "stdout",
     "output_type": "stream",
     "text": [
      "[1, 2, 3, 4]\n"
     ]
    }
   ],
   "source": [
    "list = [1, 2, 4]\n",
    "list.insert(2, 3)\n",
    "print(list)"
   ]
  },
  {
   "cell_type": "markdown",
   "id": "2578c94c-2fed-400a-a6d4-cfa4b92a6cbb",
   "metadata": {},
   "source": [
    "4. `pop()`: removes an element of the specified index, from the list and returns the removed element."
   ]
  },
  {
   "cell_type": "code",
   "execution_count": 45,
   "id": "9d74e7b9-3a72-42ab-945b-a76a1a6e01ec",
   "metadata": {},
   "outputs": [
    {
     "name": "stdout",
     "output_type": "stream",
     "text": [
      "4\n"
     ]
    }
   ],
   "source": [
    "list = [1, 2, 3, 4, 5]\n",
    "list.pop(len(list) - 1)\n",
    "popped_element = list.pop(len(list) - 1)\n",
    "print(popped_element)"
   ]
  },
  {
   "cell_type": "markdown",
   "id": "c7b3893b-05f5-4d39-8290-390e3a8871b3",
   "metadata": {},
   "source": [
    "## Custom functions"
   ]
  },
  {
   "cell_type": "markdown",
   "id": "e42cd6e8-a625-4134-8529-56c247f08c02",
   "metadata": {},
   "source": [
    "- Also called user defined functions.\n",
    "- Function arguments to be inside parantheses.\n",
    "- Functions must be defined before they're called.\n",
    "- Use the same number of arguments, in the same order, as the function definition, during function call.\n",
    "- Result of a function can be sent back with the `return` statement.\n",
    "- User defined functions help breaking down large programs into small segments to make it easy to understand, maintain & debug.\n",
    "- ```\n",
    "  def function_name(argument1, argument2 = default_value):\n",
    "      function body\n",
    "      return value1, value2\n",
    "  ```\n",
    "- A function can return multiple values."
   ]
  },
  {
   "cell_type": "code",
   "execution_count": 46,
   "id": "149cbbc1-4c04-4f25-9525-3f992da79c6a",
   "metadata": {},
   "outputs": [
    {
     "name": "stdout",
     "output_type": "stream",
     "text": [
      "Area: 7500 | Perimeter: 400\n"
     ]
    }
   ],
   "source": [
    "# function definition\n",
    "def rect(length, breadth):\n",
    "    area = length * breadth\n",
    "    perimeter = 2 * (length + breadth)\n",
    "    return area, perimeter\n",
    "\n",
    "# function call\n",
    "x, y = rect(150, 50)\n",
    "print(f\"Area: {x} | Perimeter: {y}\")"
   ]
  },
  {
   "cell_type": "markdown",
   "id": "4d6558b8-cb8a-4361-af7e-d00f90a5154a",
   "metadata": {},
   "source": [
    "- Execution of a code inside a function ends when a value is returned.\n",
    "- Function arguments can have default values. Default values are used only when no other value is passed in the argument when the function is called."
   ]
  },
  {
   "cell_type": "code",
   "execution_count": 47,
   "id": "241bb467-e490-44d0-b4af-6dbc734d3ff6",
   "metadata": {},
   "outputs": [
    {
     "name": "stdout",
     "output_type": "stream",
     "text": [
      "Hey Guest!\n",
      "Have a nice day ^-^\n",
      "Hey John Doe!\n",
      "Have a nice day ^-^\n"
     ]
    }
   ],
   "source": [
    "def greet(name = \"Guest\"):\n",
    "    print(f\"Hey {name}!\")\n",
    "    print(\"Have a nice day ^-^\")\n",
    "\n",
    "greet()\n",
    "greet(\"John Doe\")"
   ]
  }
 ],
 "metadata": {
  "kernelspec": {
   "display_name": "Python 3 (ipykernel)",
   "language": "python",
   "name": "python3"
  },
  "language_info": {
   "codemirror_mode": {
    "name": "ipython",
    "version": 3
   },
   "file_extension": ".py",
   "mimetype": "text/x-python",
   "name": "python",
   "nbconvert_exporter": "python",
   "pygments_lexer": "ipython3",
   "version": "3.11.7"
  }
 },
 "nbformat": 4,
 "nbformat_minor": 5
}
